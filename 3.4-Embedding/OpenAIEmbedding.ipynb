{
 "cells": [
  {
   "cell_type": "markdown",
   "metadata": {},
   "source": [
    "## Embedding\n",
    "\n",
    "Converting Text into vectors\n"
   ]
  },
  {
   "cell_type": "code",
   "execution_count": null,
   "metadata": {},
   "outputs": [],
   "source": [
    "# !pip install python-dotenv\n",
    "# # !pip install langchain-openai"
   ]
  },
  {
   "cell_type": "code",
   "execution_count": null,
   "metadata": {},
   "outputs": [],
   "source": [
    "import os\n",
    "from dotenv import load_dotenv # Basically call all your environment variables in your coding environment\n",
    "load_dotenv #load all the environment"
   ]
  },
  {
   "cell_type": "code",
   "execution_count": 3,
   "metadata": {},
   "outputs": [],
   "source": [
    "os.environ[\"OPENAI_API_KEY\"]=os.getenv(\"OPENAI_API_KEY\") # open ai will get it from the .env file"
   ]
  },
  {
   "cell_type": "code",
   "execution_count": null,
   "metadata": {},
   "outputs": [],
   "source": [
    "from langchain_openai import OpenAIEmbeddings\n",
    "embedding=OpenAIEmbeddings(model=\"text-embedding-3-large\")\n",
    "embedding"
   ]
  },
  {
   "cell_type": "code",
   "execution_count": null,
   "metadata": {},
   "outputs": [],
   "source": [
    "text=\"This is a tutorial on Open AI embbedding\" # It takes an entire sentence and it converts into a vector of 3072 dimension\n",
    "query_result=embedding.embed_query(text)\n",
    "query_result"
   ]
  },
  {
   "cell_type": "code",
   "execution_count": null,
   "metadata": {},
   "outputs": [],
   "source": [
    "len(query_result)# o/p is 3072"
   ]
  },
  {
   "cell_type": "code",
   "execution_count": null,
   "metadata": {},
   "outputs": [],
   "source": [
    "embeddings_1024=OpenAIEmbeddings(model=\"text-embedding-3-large\",dimensions=1024)"
   ]
  },
  {
   "cell_type": "code",
   "execution_count": null,
   "metadata": {},
   "outputs": [],
   "source": [
    "text=\"This is a tutorial on Open AI embbedding\" # It takes an entire sentence and it converts into a vector of 3072 dimension\n",
    "query_result=embeddings_1024.embed_query(text)\n",
    "query_result"
   ]
  },
  {
   "cell_type": "code",
   "execution_count": null,
   "metadata": {},
   "outputs": [],
   "source": [
    "len(query_result)"
   ]
  },
  {
   "cell_type": "code",
   "execution_count": 9,
   "metadata": {},
   "outputs": [
    {
     "data": {
      "text/plain": [
       "[Document(metadata={'source': 'speech.txt'}, page_content='The world must be made safe for democracy. Its peace must be planted upon the tested foundations of political liberty. We have no selfish ends to serve. We desire no conquest, no dominion. We seek no indemnities for ourselves, no material compensation for the sacrifices we shall freely make. We are but one of the champions of the rights of mankind. We shall be satisfied when those rights have been made as secure as the faith and the freedom of nations can make them.\\n\\nJust because we fight without rancor and without selfish object, seeking nothing for ourselves but what we shall wish to share with all free peoples, we shall, I feel confident, conduct our operations as belligerents without passion and ourselves observe with proud punctilio the principles of right and of fair play we profess to be fighting for.\\n\\n…\\n\\nIt will be all the easier for us to conduct ourselves as belligerents in a high spirit of right and fairness because we act without animus, not in enmity toward a people or with the desire to bring any injury or disadvantage upon them, but only in armed opposition to an irresponsible government which has thrown aside all considerations of humanity and of right and is running amuck. We are, let me say again, the sincere friends of the German people, and shall desire nothing so much as the early reestablishment of intimate relations of mutual advantage between us—however hard it may be for them, for the time being, to believe that this is spoken from our hearts.\\n\\nWe have borne with their present government through all these bitter months because of that friendship—exercising a patience and forbearance which would otherwise have been impossible. We shall, happily, still have an opportunity to prove that friendship in our daily attitude and actions toward the millions of men and women of German birth and native sympathy who live among us and share our life, and we shall be proud to prove it toward all who are in fact loyal to their neighbors and to the government in the hour of test. They are, most of them, as true and loyal Americans as if they had never known any other fealty or allegiance. They will be prompt to stand with us in rebuking and restraining the few who may be of a different mind and purpose. If there should be disloyalty, it will be dealt with with a firm hand of stern repression; but, if it lifts its head at all, it will lift it only here and there and without countenance except from a lawless and malignant few.\\n\\nIt is a distressing and oppressive duty, gentlemen of the Congress, which I have performed in thus addressing you. There are, it may be, many months of fiery trial and sacrifice ahead of us. It is a fearful thing to lead this great peaceful people into war, into the most terrible and disastrous of all wars, civilization itself seeming to be in the balance. But the right is more precious than peace, and we shall fight for the things which we have always carried nearest our hearts—for democracy, for the right of those who submit to authority to have a voice in their own governments, for the rights and liberties of small nations, for a universal dominion of right by such a concert of free peoples as shall bring peace and safety to all nations and make the world itself at last free.\\n\\nTo such a task we can dedicate our lives and our fortunes, everything that we are and everything that we have, with the pride of those who know that the day has come when America is privileged to spend her blood and her might for the principles that gave her birth and happiness and the peace which she has treasured. God helping her, she can do no other.')]"
      ]
     },
     "execution_count": 9,
     "metadata": {},
     "output_type": "execute_result"
    }
   ],
   "source": [
    "from langchain_community.document_loaders import TextLoader\n",
    "loader=TextLoader('speech.txt')\n",
    "docs=loader.load()\n",
    "docs"
   ]
  },
  {
   "cell_type": "code",
   "execution_count": 11,
   "metadata": {},
   "outputs": [
    {
     "name": "stdout",
     "output_type": "stream",
     "text": [
      "[Document(page_content='The world must be made safe for democracy. Its peace must be planted upon the tested foundations of'), Document(page_content='of political liberty. We have no selfish ends to serve. We desire no conquest, no dominion. We seek'), Document(page_content='We seek no indemnities for ourselves, no material compensation for the sacrifices we shall freely'), Document(page_content='freely make. We are but one of the champions of the rights of mankind. We shall be satisfied when'), Document(page_content='when those rights have been made as secure as the faith and the freedom of nations can make them.'), Document(page_content='Just because we fight without rancor and without selfish object, seeking nothing for ourselves but'), Document(page_content='but what we shall wish to share with all free peoples, we shall, I feel confident, conduct our'), Document(page_content='our operations as belligerents without passion and ourselves observe with proud punctilio the'), Document(page_content='the principles of right and of fair play we profess to be fighting for.'), Document(page_content='…'), Document(page_content='It will be all the easier for us to conduct ourselves as belligerents in a high spirit of right and'), Document(page_content='right and fairness because we act without animus, not in enmity toward a people or with the desire'), Document(page_content='desire to bring any injury or disadvantage upon them, but only in armed opposition to an'), Document(page_content='to an irresponsible government which has thrown aside all considerations of humanity and of right'), Document(page_content='of right and is running amuck. We are, let me say again, the sincere friends of the German people,'), Document(page_content='people, and shall desire nothing so much as the early reestablishment of intimate relations of'), Document(page_content='of mutual advantage between us—however hard it may be for them, for the time being, to believe that'), Document(page_content='that this is spoken from our hearts.'), Document(page_content='We have borne with their present government through all these bitter months because of that'), Document(page_content='of that friendship—exercising a patience and forbearance which would otherwise have been'), Document(page_content='have been impossible. We shall, happily, still have an opportunity to prove that friendship in our'), Document(page_content='in our daily attitude and actions toward the millions of men and women of German birth and native'), Document(page_content='native sympathy who live among us and share our life, and we shall be proud to prove it toward all'), Document(page_content='all who are in fact loyal to their neighbors and to the government in the hour of test. They are,'), Document(page_content='They are, most of them, as true and loyal Americans as if they had never known any other fealty or'), Document(page_content='fealty or allegiance. They will be prompt to stand with us in rebuking and restraining the few who'), Document(page_content='few who may be of a different mind and purpose. If there should be disloyalty, it will be dealt'), Document(page_content='be dealt with with a firm hand of stern repression; but, if it lifts its head at all, it will lift'), Document(page_content='will lift it only here and there and without countenance except from a lawless and malignant few.'), Document(page_content='It is a distressing and oppressive duty, gentlemen of the Congress, which I have performed in thus'), Document(page_content='in thus addressing you. There are, it may be, many months of fiery trial and sacrifice ahead of us.'), Document(page_content='of us. It is a fearful thing to lead this great peaceful people into war, into the most terrible'), Document(page_content='terrible and disastrous of all wars, civilization itself seeming to be in the balance. But the'), Document(page_content='But the right is more precious than peace, and we shall fight for the things which we have always'), Document(page_content='always carried nearest our hearts—for democracy, for the right of those who submit to authority to'), Document(page_content='to have a voice in their own governments, for the rights and liberties of small nations, for a'), Document(page_content='for a universal dominion of right by such a concert of free peoples as shall bring peace and safety'), Document(page_content='safety to all nations and make the world itself at last free.'), Document(page_content='To such a task we can dedicate our lives and our fortunes, everything that we are and everything'), Document(page_content='that we have, with the pride of those who know that the day has come when America is privileged to'), Document(page_content='to spend her blood and her might for the principles that gave her birth and happiness and the peace'), Document(page_content='the peace which she has treasured. God helping her, she can do no other.')]\n"
     ]
    }
   ],
   "source": [
    "from langchain_text_splitters import RecursiveCharacterTextSplitter\n",
    "speech=\"\"\n",
    "with open(\"speech.txt\")as f:\n",
    "    speech=f.read()\n",
    "text_splitter=RecursiveCharacterTextSplitter(chunk_size=100,chunk_overlap=10)\n",
    "text=text_splitter.create_documents([speech])\n",
    "print(text)"
   ]
  },
  {
   "cell_type": "code",
   "execution_count": 12,
   "metadata": {},
   "outputs": [
    {
     "data": {
      "text/plain": [
       "[Document(metadata={'source': 'speech.txt'}, page_content='The world must be made safe for democracy. Its peace must be planted upon the tested foundations of political liberty. We have no selfish ends to serve. We desire no conquest, no dominion. We seek no indemnities for ourselves, no material compensation for the sacrifices we shall freely make. We are but one of the champions of the rights of mankind. We shall be satisfied when those rights have been made as secure as the faith and the freedom of nations can make them.'),\n",
       " Document(metadata={'source': 'speech.txt'}, page_content='Just because we fight without rancor and without selfish object, seeking nothing for ourselves but what we shall wish to share with all free peoples, we shall, I feel confident, conduct our operations as belligerents without passion and ourselves observe with proud punctilio the principles of right and of fair play we profess to be fighting for.\\n\\n…'),\n",
       " Document(metadata={'source': 'speech.txt'}, page_content='It will be all the easier for us to conduct ourselves as belligerents in a high spirit of right and fairness because we act without animus, not in enmity toward a people or with the desire to bring any injury or disadvantage upon them, but only in armed opposition to an irresponsible government which has thrown aside all considerations of humanity and of right and is running amuck. We are, let me say again, the sincere friends of the German people, and shall desire nothing so much as the early'),\n",
       " Document(metadata={'source': 'speech.txt'}, page_content='and shall desire nothing so much as the early reestablishment of intimate relations of mutual advantage between us—however hard it may be for them, for the time being, to believe that this is spoken from our hearts.'),\n",
       " Document(metadata={'source': 'speech.txt'}, page_content='We have borne with their present government through all these bitter months because of that friendship—exercising a patience and forbearance which would otherwise have been impossible. We shall, happily, still have an opportunity to prove that friendship in our daily attitude and actions toward the millions of men and women of German birth and native sympathy who live among us and share our life, and we shall be proud to prove it toward all who are in fact loyal to their neighbors and to the'),\n",
       " Document(metadata={'source': 'speech.txt'}, page_content='are in fact loyal to their neighbors and to the government in the hour of test. They are, most of them, as true and loyal Americans as if they had never known any other fealty or allegiance. They will be prompt to stand with us in rebuking and restraining the few who may be of a different mind and purpose. If there should be disloyalty, it will be dealt with with a firm hand of stern repression; but, if it lifts its head at all, it will lift it only here and there and without countenance except'),\n",
       " Document(metadata={'source': 'speech.txt'}, page_content='here and there and without countenance except from a lawless and malignant few.'),\n",
       " Document(metadata={'source': 'speech.txt'}, page_content='It is a distressing and oppressive duty, gentlemen of the Congress, which I have performed in thus addressing you. There are, it may be, many months of fiery trial and sacrifice ahead of us. It is a fearful thing to lead this great peaceful people into war, into the most terrible and disastrous of all wars, civilization itself seeming to be in the balance. But the right is more precious than peace, and we shall fight for the things which we have always carried nearest our hearts—for democracy,'),\n",
       " Document(metadata={'source': 'speech.txt'}, page_content='always carried nearest our hearts—for democracy, for the right of those who submit to authority to have a voice in their own governments, for the rights and liberties of small nations, for a universal dominion of right by such a concert of free peoples as shall bring peace and safety to all nations and make the world itself at last free.'),\n",
       " Document(metadata={'source': 'speech.txt'}, page_content='To such a task we can dedicate our lives and our fortunes, everything that we are and everything that we have, with the pride of those who know that the day has come when America is privileged to spend her blood and her might for the principles that gave her birth and happiness and the peace which she has treasured. God helping her, she can do no other.')]"
      ]
     },
     "execution_count": 12,
     "metadata": {},
     "output_type": "execute_result"
    }
   ],
   "source": [
    "from langchain_text_splitters import RecursiveCharacterTextSplitter\n",
    "# when dividing the documents into chunks . each chunk of text should have a maximum chunk size of 500 characters\n",
    "text_splitter=RecursiveCharacterTextSplitter(chunk_size=500,chunk_overlap=50)\n",
    "final_docs=text_splitter.split_documents(docs)\n",
    "#create_documents when the data is in the text form.\n",
    "# chunk_overlap=50 ensures that there will be a 50-character overlap between consecutive chunks, allowing for continuity between the chunks.\n",
    "final_docs"
   ]
  },
  {
   "cell_type": "code",
   "execution_count": null,
   "metadata": {},
   "outputs": [],
   "source": [
    "# ##combine Vector embedding and Vector Store db(Chroma DB)\n",
    "# !pip install chromadb\n"
   ]
  },
  {
   "cell_type": "code",
   "execution_count": null,
   "metadata": {},
   "outputs": [],
   "source": [
    "from langchain_community.vectorstores import Chroma\n",
    "db=Chroma.from_documents(final_docs,embeddings_1024)\n",
    "db"
   ]
  },
  {
   "cell_type": "code",
   "execution_count": null,
   "metadata": {},
   "outputs": [],
   "source": [
    "# reterive the resullts from query vectore store db\n",
    "query=\"It will be all the easier for us to conduct ourselves as belligerents in a high spirit of right and fairness because we act without animus, not in enmity toward a people or with the desire to bring any injury or disadvantage upon them, but only in armed opposition to an irresponsible government which has thrown aside all considerations of humanity and of right and is running amuck. We are, let me say again, the sincere friends of the German people, and shall desire nothing so much as the early reestablishment of intimate relations of mutual advantage between us—however hard it may be for them, for the time being, to believe that this is spoken from our hearts.\"\n",
    "reterive_result=db.similarity_search(query)\n",
    "print(reterive_result)\n"
   ]
  },
  {
   "cell_type": "code",
   "execution_count": null,
   "metadata": {},
   "outputs": [],
   "source": []
  }
 ],
 "metadata": {
  "kernelspec": {
   "display_name": "Python 3.10.0 (conda)",
   "language": "python",
   "name": "python3"
  },
  "language_info": {
   "codemirror_mode": {
    "name": "ipython",
    "version": 3
   },
   "file_extension": ".py",
   "mimetype": "text/x-python",
   "name": "python",
   "nbconvert_exporter": "python",
   "pygments_lexer": "ipython3",
   "version": "3.10.0"
  },
  "orig_nbformat": 4,
  "vscode": {
   "interpreter": {
    "hash": "d0d231d85ae7034e84954a6178c429a90ae166e4227dfdd196c6e75ac19cb1c3"
   }
  }
 },
 "nbformat": 4,
 "nbformat_minor": 2
}
